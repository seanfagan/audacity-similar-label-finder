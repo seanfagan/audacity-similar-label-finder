{
  "nbformat": 4,
  "nbformat_minor": 0,
  "metadata": {
    "colab": {
      "name": "Audacity_similar_label_finder.ipynb",
      "private_outputs": true,
      "provenance": [],
      "collapsed_sections": [],
      "authorship_tag": "ABX9TyM7V9uFIRBMcHMxKIXZQw1F",
      "include_colab_link": true
    },
    "kernelspec": {
      "name": "python3",
      "display_name": "Python 3"
    }
  },
  "cells": [
    {
      "cell_type": "markdown",
      "metadata": {
        "id": "view-in-github",
        "colab_type": "text"
      },
      "source": [
        "<a href=\"https://colab.research.google.com/github/seanfagan/audacity-similar-label-finder/blob/main/Audacity_similar_label_finder.ipynb\" target=\"_parent\"><img src=\"https://colab.research.google.com/assets/colab-badge.svg\" alt=\"Open In Colab\"/></a>"
      ]
    },
    {
      "cell_type": "markdown",
      "metadata": {
        "id": "O0_HwDzwERLy"
      },
      "source": [
        "# Audacity Similar Label Finder\r\n",
        "[GitHub](https://github.com/seanfagan/audacity-similar-label-finder)\r\n",
        "\r\n",
        "This tool scans Audacity label tracks to find labels with similar timecodes. It does this by comparing label timecodes and, if they are _similar enough_, noting those labels as a \"match\"."
      ]
    },
    {
      "cell_type": "code",
      "metadata": {
        "id": "Uueo6l37FX0h",
        "cellView": "form"
      },
      "source": [
        "#@title Run the tool\r\n",
        "#@markdown When you run this code, Google will warn you that you are about to run an executable not authored by Google.\r\n",
        "#@markdown If you'd like to view the source code that you are about to run, double click.\r\n",
        "#@markdown ### Steps\r\n",
        "#@markdown 1. (Optional) Adjust the settings below.\r\n",
        "#@markdown 2. Press the Play button to begin the script.\r\n",
        "#@markdown 3. You will be prompted to upload your label track files.\r\n",
        "#@markdown 4. The results will be printed below.\r\n",
        "\r\n",
        "#@markdown ### Config\r\n",
        "INCLUDE_TIMECODES_IN_OUTPUT = True #@param {type:\"boolean\"}\r\n",
        "MATCH_TOLERANCE_IN_SECONDS = 0.5 #@param {type:\"number\"}\r\n",
        "#@markdown >_^ The maximum difference between two timecodes that should still be considered a match. Use \"0\" for exact matches only._\r\n",
        "\r\n",
        "import csv\r\n",
        "import io\r\n",
        "from google.colab import files\r\n",
        "\r\n",
        "uploaded_labels = files.upload()\r\n",
        "\r\n",
        "def fuzzy_match(label_a, label_b):\r\n",
        "    '''Do the start and end times of these labels match, within tolerance?'''\r\n",
        "    return (\r\n",
        "\t\tabs(float(label_a['start'])-float(label_b['start'])) <= MATCH_TOLERANCE_IN_SECONDS\r\n",
        "\t\tand abs(float(label_a['end'])-float(label_b['end'])) <= MATCH_TOLERANCE_IN_SECONDS\r\n",
        "\t)\r\n",
        "\r\n",
        "print('+====================+')\r\n",
        "print('|       RESULTS      |')\r\n",
        "print('+====================+')\r\n",
        "results = {}\r\n",
        "for filename, filedata in uploaded_labels.items():\r\n",
        "    # Read the label track file into a list of dictionaries\r\n",
        "    reader = csv.DictReader(io.StringIO(filedata.decode()), fieldnames=['start', 'end', 'label'], delimiter='\\t')\r\n",
        "    labels = list(reader)\r\n",
        "\r\n",
        "    print('\\n\\n======== FILE ========')\r\n",
        "    print(f'Scanning \"{filename}\"')\r\n",
        "\r\n",
        "    # Iterate through labels to find matches.\r\n",
        "    current_group = []  # A group of similar labels\r\n",
        "    match_groups = []  # A list of all groups\r\n",
        "    prev_l = labels[0]\r\n",
        "    for l in labels[1:]:\r\n",
        "        if fuzzy_match(l, prev_l):\r\n",
        "            # MATCH!\r\n",
        "            if not current_group:\r\n",
        "                # No ongoing group, so begin new group with previous label\r\n",
        "                current_group.append(prev_l)\r\n",
        "            current_group.append(l)\r\n",
        "        else:\r\n",
        "            # No match...\r\n",
        "            if current_group:\r\n",
        "                # Append the now-ended group to the list, then reset it\r\n",
        "                match_groups.append(current_group)\r\n",
        "                current_group = []\r\n",
        "\r\n",
        "        prev_l = l\r\n",
        "    \r\n",
        "    # Print this file's results\r\n",
        "    if match_groups:\r\n",
        "        for g in match_groups:\r\n",
        "            print('\\nSimilar labels:')\r\n",
        "            for l in g:\r\n",
        "                if INCLUDE_TIMECODES_IN_OUTPUT:\r\n",
        "                    print(f\"- {l['label']}:\\t{l['start']}\\t{l['end']}\")\r\n",
        "                else:\r\n",
        "                    print(f\"- {l['label']}\")\r\n",
        "    else:\r\n",
        "        print('No similar labels found.')\r\n",
        "\r\n",
        "    results[filename] = match_groups\r\n"
      ],
      "execution_count": null,
      "outputs": []
    },
    {
      "cell_type": "code",
      "metadata": {
        "id": "YfplKJj5Nisv",
        "cellView": "form"
      },
      "source": [
        "#@title Download results as JSON\n",
        "#@markdown Press the Play button to download the results in a JSON format. You may specify a filename below.\n",
        "dl_filename = 'gingersid_similar_label_results.json' #@param {type:\"string\"}\n",
        "#@markdown The data follows this format: A file may contain matches, matches contain labels, and labels contain a start, end, and label name.\n",
        "import json\n",
        "\n",
        "with open(dl_filename, 'w') as output_file:\n",
        "    json.dump(results, output_file, indent=2)\n",
        "\n",
        "files.download(dl_filename)"
      ],
      "execution_count": null,
      "outputs": []
    }
  ]
}